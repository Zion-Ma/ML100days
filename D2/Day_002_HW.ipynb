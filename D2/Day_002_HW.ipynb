{
 "cells": [
  {
   "cell_type": "markdown",
   "metadata": {},
   "source": [
    "## [作業目標]\n",
    "了解機器學習適合應用的領域與範疇。"
   ]
  },
  {
   "cell_type": "markdown",
   "metadata": {},
   "source": [
    "## [作業重點]\n",
    "透過瞭解機器學習的運作方式，找出非常適用機器學習應用的領域及其原因"
   ]
  },
  {
   "cell_type": "markdown",
   "metadata": {},
   "source": [
    "## 作業\n",
    "請找出一個你認為機器學習可以發光發熱的領域並闡述原因? "
   ]
  },
  {
   "cell_type": "markdown",
   "metadata": {},
   "source": [
    "A: medical industry\n",
    "\n",
    "The sector where machine learning may have the biggest impact on society is in the healthcare field. Artificial neural networks can be used to process and analyze medical data to give medical researchers and doctors better insights, quicker than ever before. Learning algorithms can help scientists home in on the most effective treatments, based on data rather than hunches and anecdotal evidence. In the subfield of computer vision-the technical pursuit to allow computers to mimic the human capacity to see and make inferences from image-applications for the health industry include the ability for a computer to scan a medical image and make a diagnosis.\n",
    "\n",
    "The corporations and nonprofits that run hospitals and health centers value machine learning engineers, because data science can lower healthcare costs while improving patient outcomes. Learning algorithms can allow healthcare systems to provide optimal treatments for their members while reducing the number of ineffective or unnecessary procedures.\n",
    "\n",
    "\n",
    "reference: \n",
    "https://datascience.virginia.edu/news/which-industries-benefit-machine-learning"
   ]
  }
 ],
 "metadata": {
  "kernelspec": {
   "display_name": "Python 3",
   "language": "python",
   "name": "python3"
  },
  "language_info": {
   "codemirror_mode": {
    "name": "ipython",
    "version": 3
   },
   "file_extension": ".py",
   "mimetype": "text/x-python",
   "name": "python",
   "nbconvert_exporter": "python",
   "pygments_lexer": "ipython3",
   "version": "3.8.3rc1"
  }
 },
 "nbformat": 4,
 "nbformat_minor": 2
}
